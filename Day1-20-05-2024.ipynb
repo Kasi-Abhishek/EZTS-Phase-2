{
 "cells": [
  {
   "cell_type": "code",
   "execution_count": 1,
   "id": "ceb15c2f",
   "metadata": {},
   "outputs": [
    {
     "name": "stdout",
     "output_type": "stream",
     "text": [
      "dog\n",
      "god\n",
      "True\n"
     ]
    }
   ],
   "source": [
    "#P1\n",
    "#anagram\n",
    "\n",
    "s = input()\n",
    "t = input()\n",
    "s1 = list(set(s))\n",
    "t1 = list(set(t))\n",
    "if len(s1) != len(t1):\n",
    "    print(False)\n",
    "if sorted(s1) != sorted(t1):\n",
    "    print(False)\n",
    "for i in s1:\n",
    "    if s.count(i) != t.count(i):\n",
    "        print(False)\n",
    "        \n",
    "else:\n",
    "    print(True)\n"
   ]
  },
  {
   "cell_type": "code",
   "execution_count": 2,
   "id": "d4a9be84",
   "metadata": {},
   "outputs": [
    {
     "name": "stdout",
     "output_type": "stream",
     "text": [
      "dog\n",
      "god\n",
      "True\n"
     ]
    }
   ],
   "source": [
    "#P2\n",
    "#anagramplus\n",
    "\n",
    "s = input()\n",
    "t = input()\n",
    "d ={}\n",
    "if len(s) != len(t):\n",
    "    print(False)\n",
    "if len(set(s)) != len(set(t)):\n",
    "    print(False)\n",
    "for i in range(len(s)):\n",
    "    if s[i] not in d:\n",
    "        d[s[i]] = t[i]\n",
    "    else:\n",
    "        if t[i] != d[s[i]]:\n",
    "            print(False)\n",
    "else:\n",
    "    print(True)\n"
   ]
  },
  {
   "cell_type": "code",
   "execution_count": 3,
   "id": "bd762eaa",
   "metadata": {},
   "outputs": [
    {
     "name": "stdout",
     "output_type": "stream",
     "text": [
      "a5\n",
      "False\n"
     ]
    }
   ],
   "source": [
    "#P3\n",
    "#colour of chessboard\n",
    "\n",
    "coordinates = input()\n",
    "c = coordinates\n",
    "k = {\"a\":1,\"b\":2,\"c\":3,\"d\":4,\"e\":5,\"f\":6,\"g\":7,\"h\":8}\n",
    "p,q = int(k[c[0]]),int(c[1])\n",
    "if p%2 != 0 and q%2 != 0:\n",
    "    print(False)\n",
    "if p%2 == 0 and q%2 != 0:\n",
    "    print(True)\n",
    "if p%2 != 0 and q%2 == 0:\n",
    "    print(True)\n",
    "if p%2 == 0 and q%2 == 0:\n",
    "    print(False)\n"
   ]
  },
  {
   "cell_type": "code",
   "execution_count": 7,
   "id": "7b4c0071",
   "metadata": {},
   "outputs": [
    {
     "name": "stdout",
     "output_type": "stream",
     "text": [
      "245+-\n",
      "7\n"
     ]
    }
   ],
   "source": [
    "#P4\n",
    "#evalution postfix notation using stack\n",
    "\n",
    "\n",
    "n = input()\n",
    "k = []\n",
    "for i in n:\n",
    "    if i.isdigit():\n",
    "        k.append(int(i))\n",
    "    else:\n",
    "        if i == \"+\":\n",
    "            c = k[-1]+k[-2]\n",
    "            k.pop()\n",
    "            k.pop()\n",
    "            k.append(c)\n",
    "        if i == \"-\":\n",
    "            c = k[-1] - k[-2]\n",
    "            k.pop()\n",
    "            k.pop()\n",
    "            k.append(c)\n",
    "        if i == \"*\":\n",
    "            c = k[-1]*k[-2]\n",
    "            k.pop()\n",
    "            k.pop()\n",
    "            k.append(c)\n",
    "        if i == \"/\":\n",
    "            c = k[-1]//k[-2]\n",
    "            k.pop()\n",
    "            k.pop()\n",
    "            k.append(c)\n",
    "print(*k)\n"
   ]
  },
  {
   "cell_type": "code",
   "execution_count": 8,
   "id": "5590f652",
   "metadata": {},
   "outputs": [
    {
     "name": "stdout",
     "output_type": "stream",
     "text": [
      "[7]\n"
     ]
    }
   ],
   "source": [
    "\n",
    "#P5\n",
    "#lastone\n",
    "\n",
    "\n",
    "s = [1,2,3,4,5,6,7,8,9,10,11,12]\n",
    "n = 3\n",
    "f = 0\n",
    "while len(s) >1:\n",
    "    if f==0:\n",
    "        for i in range(n):\n",
    "            if len(s) >1:\n",
    "                s.pop(0)\n",
    "            else:\n",
    "                break\n",
    "        f = 1\n",
    "    else:\n",
    "        for i in range(n):\n",
    "            if len(s) >1:\n",
    "                s.pop()\n",
    "            else:\n",
    "                break\n",
    "        f = 0\n",
    "print(s)\n"
   ]
  },
  {
   "cell_type": "code",
   "execution_count": 10,
   "id": "69377fe6",
   "metadata": {},
   "outputs": [
    {
     "name": "stdout",
     "output_type": "stream",
     "text": [
      "True\n"
     ]
    }
   ],
   "source": [
    "#P6\n",
    "#paraenthsis\n",
    "\n",
    "\n",
    "class Solution:\n",
    "    def isValid(self, s: str) -> bool:\n",
    "        stack = []\n",
    "        \n",
    "        for char in s:\n",
    "            if char in \"({[\":\n",
    "                stack.append(char)\n",
    "            elif char == ')':\n",
    "                if not stack or stack[-1] != '(':\n",
    "                    return False\n",
    "                stack.pop()\n",
    "            elif char == ']':\n",
    "                if not stack or stack[-1] != '[':\n",
    "                    return False\n",
    "                stack.pop()\n",
    "            elif char == '}':\n",
    "                if not stack or stack[-1] != '{':\n",
    "                    return False\n",
    "                stack.pop()\n",
    "        \n",
    "        return not stack\n",
    "k = Solution()\n",
    "print(k.isValid(\"()\"))\n"
   ]
  },
  {
   "cell_type": "code",
   "execution_count": 14,
   "id": "ce25be02",
   "metadata": {},
   "outputs": [],
   "source": [
    "#P7\n",
    "#queue using stack\n",
    "\n",
    "class MyQueue:\n",
    "\n",
    "    def __init__(self):\n",
    "        self.k = []\n",
    "\n",
    "    def push(self, x: int) -> None:\n",
    "        self.x = x\n",
    "        self.k.append(self.x)\n",
    "\n",
    "    def pop(self) -> int:\n",
    "        return self.k.pop(0)\n",
    "\n",
    "    def peek(self) -> int:\n",
    "        return self.k[0]\n",
    "\n",
    "    def empty(self) -> bool:\n",
    "        if len(self.k) == 0:\n",
    "            return True\n",
    "        else:\n",
    "            return False   \n"
   ]
  },
  {
   "cell_type": "code",
   "execution_count": null,
   "id": "6a944e40",
   "metadata": {},
   "outputs": [],
   "source": []
  }
 ],
 "metadata": {
  "kernelspec": {
   "display_name": "Python 3 (ipykernel)",
   "language": "python",
   "name": "python3"
  },
  "language_info": {
   "codemirror_mode": {
    "name": "ipython",
    "version": 3
   },
   "file_extension": ".py",
   "mimetype": "text/x-python",
   "name": "python",
   "nbconvert_exporter": "python",
   "pygments_lexer": "ipython3",
   "version": "3.11.5"
  }
 },
 "nbformat": 4,
 "nbformat_minor": 5
}
